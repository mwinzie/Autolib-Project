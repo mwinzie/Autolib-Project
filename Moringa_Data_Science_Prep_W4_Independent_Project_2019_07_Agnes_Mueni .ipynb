{
  "nbformat": 4,
  "nbformat_minor": 0,
  "metadata": {
    "colab": {
      "name": "Moringa_Data_Science_Prep_W4_Independent_Project_2019_07_Agnes_Mueni",
      "version": "0.3.2",
      "provenance": [],
      "collapsed_sections": [],
      "toc_visible": true
    },
    "kernelspec": {
      "name": "python3",
      "display_name": "Python 3"
    },
    "accelerator": "GPU"
  },
  "cells": [
    {
      "cell_type": "markdown",
      "metadata": {
        "id": "lJVE2pZOCDk3",
        "colab_type": "text"
      },
      "source": [
        "Research Question\n",
        "\n",
        "\n",
        "*   Identify the most popular hour of the day for picking up a shared electric car (Bluecar) in the city of Paris over the month of April 2018\n",
        "\n",
        "\n",
        "Bonus Questions\n",
        "\n",
        "\n",
        "\n",
        "*   What is the most popular hour for returning cars?\n",
        "*   What station is the most popular?\n",
        "     Overall?\n",
        "     At the most popular picking hour?\n",
        "\n",
        "\n",
        "*  What postal code is the most popular for picking up Bluecars? Does the most popular station belong to that postal code?\n",
        "\n",
        "   Overall?\n",
        "   At the most popular picking hour?\n",
        "\n",
        "*  Do the results change if you consider Utilib and Utilib 1.4 instead of Bluecars? (that could be asked earlier to push students to write modular code that can be used to query different things)\n",
        "\n",
        "\n",
        "\n"
      ]
    },
    {
      "cell_type": "markdown",
      "metadata": {
        "id": "VBlYlr679mBG",
        "colab_type": "text"
      },
      "source": [
        "# Data Cleaning\n",
        "\n",
        "---\n",
        "\n",
        "\n"
      ]
    },
    {
      "cell_type": "code",
      "metadata": {
        "id": "mm8u7yoTbMhZ",
        "colab_type": "code",
        "colab": {}
      },
      "source": [
        "# Importing the pandas and numpy libraries to use in the dataset from the url  \n",
        "\n",
        "import pandas as pd\n",
        "import numpy as np"
      ],
      "execution_count": 0,
      "outputs": []
    },
    {
      "cell_type": "code",
      "metadata": {
        "id": "cl9roIQCwCak",
        "colab_type": "code",
        "outputId": "70c98fa3-d167-48e8-a178-23e9c89caff0",
        "colab": {
          "base_uri": "https://localhost:8080/",
          "height": 453
        }
      },
      "source": [
        "# Loading the electric cars dataset from the url = 'http://bit.ly/Autolibdataset'\n",
        "url = 'http://bit.ly/Autolibdataset'\n",
        "df = pd.read_csv(url, index_col = 0)\n",
        "#showing the first rows of records from the dataset\n",
        "df.head()\n"
      ],
      "execution_count": 0,
      "outputs": [
        {
          "output_type": "stream",
          "text": [
            "/usr/local/lib/python3.6/dist-packages/numpy/lib/arraysetops.py:569: FutureWarning: elementwise comparison failed; returning scalar instead, but in the future will perform elementwise comparison\n",
            "  mask |= (ar1 == a)\n"
          ],
          "name": "stderr"
        },
        {
          "output_type": "execute_result",
          "data": {
            "text/html": [
              "<div>\n",
              "<style scoped>\n",
              "    .dataframe tbody tr th:only-of-type {\n",
              "        vertical-align: middle;\n",
              "    }\n",
              "\n",
              "    .dataframe tbody tr th {\n",
              "        vertical-align: top;\n",
              "    }\n",
              "\n",
              "    .dataframe thead th {\n",
              "        text-align: right;\n",
              "    }\n",
              "</style>\n",
              "<table border=\"1\" class=\"dataframe\">\n",
              "  <thead>\n",
              "    <tr style=\"text-align: right;\">\n",
              "      <th></th>\n",
              "      <th>Address</th>\n",
              "      <th>Cars</th>\n",
              "      <th>Bluecar counter</th>\n",
              "      <th>Utilib counter</th>\n",
              "      <th>Utilib 1.4 counter</th>\n",
              "      <th>Charge Slots</th>\n",
              "      <th>Charging Status</th>\n",
              "      <th>City</th>\n",
              "      <th>Displayed comment</th>\n",
              "      <th>ID</th>\n",
              "      <th>Kind</th>\n",
              "      <th>Geo point</th>\n",
              "      <th>Postal code</th>\n",
              "      <th>Public name</th>\n",
              "      <th>Rental status</th>\n",
              "      <th>Scheduled at</th>\n",
              "      <th>Slots</th>\n",
              "      <th>Station type</th>\n",
              "      <th>Status</th>\n",
              "      <th>Subscription status</th>\n",
              "      <th>year</th>\n",
              "      <th>month</th>\n",
              "      <th>day</th>\n",
              "      <th>hour</th>\n",
              "      <th>minute</th>\n",
              "    </tr>\n",
              "  </thead>\n",
              "  <tbody>\n",
              "    <tr>\n",
              "      <th>0</th>\n",
              "      <td>24 Rue Vulpian</td>\n",
              "      <td>3</td>\n",
              "      <td>3</td>\n",
              "      <td>1</td>\n",
              "      <td>0</td>\n",
              "      <td>1</td>\n",
              "      <td>operational</td>\n",
              "      <td>Paris</td>\n",
              "      <td>NaN</td>\n",
              "      <td>paris-vulpian-24</td>\n",
              "      <td>STATION</td>\n",
              "      <td>48.8310493, 2.3460584</td>\n",
              "      <td>75013</td>\n",
              "      <td>Paris/Vulpian/24</td>\n",
              "      <td>operational</td>\n",
              "      <td>NaN</td>\n",
              "      <td>1</td>\n",
              "      <td>station</td>\n",
              "      <td>ok</td>\n",
              "      <td>nonexistent</td>\n",
              "      <td>2018</td>\n",
              "      <td>4</td>\n",
              "      <td>1</td>\n",
              "      <td>0</td>\n",
              "      <td>0</td>\n",
              "    </tr>\n",
              "    <tr>\n",
              "      <th>1</th>\n",
              "      <td>8 Boulevard Richard Lenoir</td>\n",
              "      <td>0</td>\n",
              "      <td>0</td>\n",
              "      <td>0</td>\n",
              "      <td>0</td>\n",
              "      <td>1</td>\n",
              "      <td>operational</td>\n",
              "      <td>Paris</td>\n",
              "      <td>NaN</td>\n",
              "      <td>paris-richardlenoir-8</td>\n",
              "      <td>STATION</td>\n",
              "      <td>48.8545026, 2.370183</td>\n",
              "      <td>75011</td>\n",
              "      <td>Paris/Richard Lenoir/8</td>\n",
              "      <td>operational</td>\n",
              "      <td>NaN</td>\n",
              "      <td>3</td>\n",
              "      <td>station</td>\n",
              "      <td>ok</td>\n",
              "      <td>nonexistent</td>\n",
              "      <td>2018</td>\n",
              "      <td>4</td>\n",
              "      <td>1</td>\n",
              "      <td>0</td>\n",
              "      <td>0</td>\n",
              "    </tr>\n",
              "    <tr>\n",
              "      <th>2</th>\n",
              "      <td>4 Rue Charles Bossut</td>\n",
              "      <td>3</td>\n",
              "      <td>3</td>\n",
              "      <td>0</td>\n",
              "      <td>0</td>\n",
              "      <td>1</td>\n",
              "      <td>operational</td>\n",
              "      <td>Paris</td>\n",
              "      <td>NaN</td>\n",
              "      <td>paris-charlesbossut-4</td>\n",
              "      <td>STATION</td>\n",
              "      <td>48.8431847, 2.3837959</td>\n",
              "      <td>75012</td>\n",
              "      <td>Paris/Charles Bossut/4</td>\n",
              "      <td>operational</td>\n",
              "      <td>NaN</td>\n",
              "      <td>2</td>\n",
              "      <td>station</td>\n",
              "      <td>ok</td>\n",
              "      <td>nonexistent</td>\n",
              "      <td>2018</td>\n",
              "      <td>4</td>\n",
              "      <td>1</td>\n",
              "      <td>0</td>\n",
              "      <td>0</td>\n",
              "    </tr>\n",
              "    <tr>\n",
              "      <th>3</th>\n",
              "      <td>3 avenue Claude Vellefaux</td>\n",
              "      <td>4</td>\n",
              "      <td>4</td>\n",
              "      <td>0</td>\n",
              "      <td>0</td>\n",
              "      <td>0</td>\n",
              "      <td>operational</td>\n",
              "      <td>Paris</td>\n",
              "      <td>NaN</td>\n",
              "      <td>paris-claudevellefaux-3</td>\n",
              "      <td>STATION</td>\n",
              "      <td>48.8740623, 2.3703034</td>\n",
              "      <td>75010</td>\n",
              "      <td>Paris/Claude Vellefaux/3</td>\n",
              "      <td>operational</td>\n",
              "      <td>NaN</td>\n",
              "      <td>1</td>\n",
              "      <td>station</td>\n",
              "      <td>ok</td>\n",
              "      <td>nonexistent</td>\n",
              "      <td>2018</td>\n",
              "      <td>4</td>\n",
              "      <td>1</td>\n",
              "      <td>0</td>\n",
              "      <td>0</td>\n",
              "    </tr>\n",
              "    <tr>\n",
              "      <th>4</th>\n",
              "      <td>236 Boulevard Voltaire</td>\n",
              "      <td>1</td>\n",
              "      <td>1</td>\n",
              "      <td>0</td>\n",
              "      <td>0</td>\n",
              "      <td>1</td>\n",
              "      <td>operational</td>\n",
              "      <td>Paris</td>\n",
              "      <td>NaN</td>\n",
              "      <td>paris-voltaire-236</td>\n",
              "      <td>STATION</td>\n",
              "      <td>48.852023, 2.389719</td>\n",
              "      <td>75011</td>\n",
              "      <td>Paris/Voltaire/236</td>\n",
              "      <td>operational</td>\n",
              "      <td>NaN</td>\n",
              "      <td>4</td>\n",
              "      <td>station</td>\n",
              "      <td>ok</td>\n",
              "      <td>nonexistent</td>\n",
              "      <td>2018</td>\n",
              "      <td>4</td>\n",
              "      <td>1</td>\n",
              "      <td>0</td>\n",
              "      <td>0</td>\n",
              "    </tr>\n",
              "  </tbody>\n",
              "</table>\n",
              "</div>"
            ],
            "text/plain": [
              "                      Address  Cars  Bluecar counter  ...  day  hour  minute\n",
              "0              24 Rue Vulpian     3                3  ...    1     0       0\n",
              "1  8 Boulevard Richard Lenoir     0                0  ...    1     0       0\n",
              "2        4 Rue Charles Bossut     3                3  ...    1     0       0\n",
              "3   3 avenue Claude Vellefaux     4                4  ...    1     0       0\n",
              "4      236 Boulevard Voltaire     1                1  ...    1     0       0\n",
              "\n",
              "[5 rows x 25 columns]"
            ]
          },
          "metadata": {
            "tags": []
          },
          "execution_count": 4
        }
      ]
    },
    {
      "cell_type": "code",
      "metadata": {
        "id": "84cwksf9beEE",
        "colab_type": "code",
        "outputId": "fbb8cee1-4317-4ed4-e22e-e912b00dab21",
        "colab": {
          "base_uri": "https://localhost:8080/",
          "height": 34
        }
      },
      "source": [
        "#getting to know the number of columns and rows in the data set\n",
        "df.shape"
      ],
      "execution_count": 0,
      "outputs": [
        {
          "output_type": "execute_result",
          "data": {
            "text/plain": [
              "(14421829, 25)"
            ]
          },
          "metadata": {
            "tags": []
          },
          "execution_count": 5
        }
      ]
    },
    {
      "cell_type": "code",
      "metadata": {
        "id": "Jigpe883AD7e",
        "colab_type": "code",
        "outputId": "5f9580da-823c-459d-b22e-e17bd7f957a6",
        "colab": {
          "base_uri": "https://localhost:8080/",
          "height": 34
        }
      },
      "source": [
        "df['Cars'].sum()"
      ],
      "execution_count": 0,
      "outputs": [
        {
          "output_type": "execute_result",
          "data": {
            "text/plain": [
              "34097245"
            ]
          },
          "metadata": {
            "tags": []
          },
          "execution_count": 6
        }
      ]
    },
    {
      "cell_type": "code",
      "metadata": {
        "id": "8LC9vsJxAtzi",
        "colab_type": "code",
        "outputId": "375d7a07-69d9-447a-ac8f-6b2911ee267b",
        "colab": {
          "base_uri": "https://localhost:8080/",
          "height": 34
        }
      },
      "source": [
        "#checked to see total number of cars and bluecar column\n",
        "#they are same, dropping the cars column\n",
        "df['Bluecar counter'].sum()"
      ],
      "execution_count": 0,
      "outputs": [
        {
          "output_type": "execute_result",
          "data": {
            "text/plain": [
              "34097245"
            ]
          },
          "metadata": {
            "tags": []
          },
          "execution_count": 7
        }
      ]
    },
    {
      "cell_type": "code",
      "metadata": {
        "id": "k6YANEHgCv8H",
        "colab_type": "code",
        "colab": {}
      },
      "source": [
        "#dropping the rows that are unnecessary \n",
        "df.drop(['Address','Cars','Charge Slots','Charging Status','Displayed comment','Scheduled at', 'Slots','Geo point'], axis = 1, inplace = True)"
      ],
      "execution_count": 0,
      "outputs": []
    },
    {
      "cell_type": "code",
      "metadata": {
        "id": "NRwznCtRmWPK",
        "colab_type": "code",
        "outputId": "d6bcc8a2-26b8-4a91-99a8-84cde7676147",
        "colab": {
          "base_uri": "https://localhost:8080/",
          "height": 105
        }
      },
      "source": [
        "df.columns"
      ],
      "execution_count": 0,
      "outputs": [
        {
          "output_type": "execute_result",
          "data": {
            "text/plain": [
              "Index(['Bluecar counter', 'Utilib counter', 'Utilib 1.4 counter', 'City', 'ID',\n",
              "       'Kind', 'Postal code', 'Public name', 'Rental status', 'Station type',\n",
              "       'Status', 'Subscription status', 'year', 'month', 'day', 'hour',\n",
              "       'minute'],\n",
              "      dtype='object')"
            ]
          },
          "metadata": {
            "tags": []
          },
          "execution_count": 9
        }
      ]
    },
    {
      "cell_type": "code",
      "metadata": {
        "id": "wCTw3k0XmWKu",
        "colab_type": "code",
        "outputId": "c3a7d432-e994-49e4-98c8-8465b66caa81",
        "colab": {
          "base_uri": "https://localhost:8080/",
          "height": 105
        }
      },
      "source": [
        "#converting column names to lower case\n",
        "df.columns = map(str.lower, df.columns)\n",
        "df.columns"
      ],
      "execution_count": 0,
      "outputs": [
        {
          "output_type": "execute_result",
          "data": {
            "text/plain": [
              "Index(['bluecar counter', 'utilib counter', 'utilib 1.4 counter', 'city', 'id',\n",
              "       'kind', 'postal code', 'public name', 'rental status', 'station type',\n",
              "       'status', 'subscription status', 'year', 'month', 'day', 'hour',\n",
              "       'minute'],\n",
              "      dtype='object')"
            ]
          },
          "metadata": {
            "tags": []
          },
          "execution_count": 10
        }
      ]
    },
    {
      "cell_type": "code",
      "metadata": {
        "id": "Z6ssXJLImWGB",
        "colab_type": "code",
        "outputId": "486d8b08-f2bf-41d0-c2f6-db34876396d0",
        "colab": {
          "base_uri": "https://localhost:8080/",
          "height": 105
        }
      },
      "source": [
        "#replace ' ' with '_'\n",
        "df.columns = df.columns.str.strip().str.replace(' ','_')\n",
        "df.columns"
      ],
      "execution_count": 0,
      "outputs": [
        {
          "output_type": "execute_result",
          "data": {
            "text/plain": [
              "Index(['bluecar_counter', 'utilib_counter', 'utilib_1.4_counter', 'city', 'id',\n",
              "       'kind', 'postal_code', 'public_name', 'rental_status', 'station_type',\n",
              "       'status', 'subscription_status', 'year', 'month', 'day', 'hour',\n",
              "       'minute'],\n",
              "      dtype='object')"
            ]
          },
          "metadata": {
            "tags": []
          },
          "execution_count": 11
        }
      ]
    },
    {
      "cell_type": "code",
      "metadata": {
        "id": "eDyrAt8g-hNd",
        "colab_type": "code",
        "colab": {}
      },
      "source": [
        "#saving the cleaned data set to a csv file\n",
        "df.to_csv('parking.csv')"
      ],
      "execution_count": 0,
      "outputs": []
    },
    {
      "cell_type": "code",
      "metadata": {
        "id": "w2iXkecy-pw8",
        "colab_type": "code",
        "outputId": "d9c3bc31-c229-4ce2-a935-c23708a0a3dd",
        "colab": {
          "base_uri": "https://localhost:8080/",
          "height": 336
        }
      },
      "source": [
        "#reading csv file while converting the columns hour and minute to string\n",
        "parking = pd.read_csv('parking.csv', index_col= 0, dtype = {'hour':str, 'minute':str})\n",
        "parking.head()"
      ],
      "execution_count": 0,
      "outputs": [
        {
          "output_type": "stream",
          "text": [
            "/usr/local/lib/python3.6/dist-packages/numpy/lib/arraysetops.py:569: FutureWarning: elementwise comparison failed; returning scalar instead, but in the future will perform elementwise comparison\n",
            "  mask |= (ar1 == a)\n"
          ],
          "name": "stderr"
        },
        {
          "output_type": "execute_result",
          "data": {
            "text/html": [
              "<div>\n",
              "<style scoped>\n",
              "    .dataframe tbody tr th:only-of-type {\n",
              "        vertical-align: middle;\n",
              "    }\n",
              "\n",
              "    .dataframe tbody tr th {\n",
              "        vertical-align: top;\n",
              "    }\n",
              "\n",
              "    .dataframe thead th {\n",
              "        text-align: right;\n",
              "    }\n",
              "</style>\n",
              "<table border=\"1\" class=\"dataframe\">\n",
              "  <thead>\n",
              "    <tr style=\"text-align: right;\">\n",
              "      <th></th>\n",
              "      <th>bluecar_counter</th>\n",
              "      <th>utilib_counter</th>\n",
              "      <th>utilib_1.4_counter</th>\n",
              "      <th>city</th>\n",
              "      <th>id</th>\n",
              "      <th>kind</th>\n",
              "      <th>postal_code</th>\n",
              "      <th>public_name</th>\n",
              "      <th>rental_status</th>\n",
              "      <th>station_type</th>\n",
              "      <th>status</th>\n",
              "      <th>subscription_status</th>\n",
              "      <th>year</th>\n",
              "      <th>month</th>\n",
              "      <th>day</th>\n",
              "      <th>hour</th>\n",
              "      <th>minute</th>\n",
              "    </tr>\n",
              "  </thead>\n",
              "  <tbody>\n",
              "    <tr>\n",
              "      <th>0</th>\n",
              "      <td>3</td>\n",
              "      <td>1</td>\n",
              "      <td>0</td>\n",
              "      <td>Paris</td>\n",
              "      <td>paris-vulpian-24</td>\n",
              "      <td>STATION</td>\n",
              "      <td>75013</td>\n",
              "      <td>Paris/Vulpian/24</td>\n",
              "      <td>operational</td>\n",
              "      <td>station</td>\n",
              "      <td>ok</td>\n",
              "      <td>nonexistent</td>\n",
              "      <td>2018</td>\n",
              "      <td>4</td>\n",
              "      <td>1</td>\n",
              "      <td>0</td>\n",
              "      <td>0</td>\n",
              "    </tr>\n",
              "    <tr>\n",
              "      <th>1</th>\n",
              "      <td>0</td>\n",
              "      <td>0</td>\n",
              "      <td>0</td>\n",
              "      <td>Paris</td>\n",
              "      <td>paris-richardlenoir-8</td>\n",
              "      <td>STATION</td>\n",
              "      <td>75011</td>\n",
              "      <td>Paris/Richard Lenoir/8</td>\n",
              "      <td>operational</td>\n",
              "      <td>station</td>\n",
              "      <td>ok</td>\n",
              "      <td>nonexistent</td>\n",
              "      <td>2018</td>\n",
              "      <td>4</td>\n",
              "      <td>1</td>\n",
              "      <td>0</td>\n",
              "      <td>0</td>\n",
              "    </tr>\n",
              "    <tr>\n",
              "      <th>2</th>\n",
              "      <td>3</td>\n",
              "      <td>0</td>\n",
              "      <td>0</td>\n",
              "      <td>Paris</td>\n",
              "      <td>paris-charlesbossut-4</td>\n",
              "      <td>STATION</td>\n",
              "      <td>75012</td>\n",
              "      <td>Paris/Charles Bossut/4</td>\n",
              "      <td>operational</td>\n",
              "      <td>station</td>\n",
              "      <td>ok</td>\n",
              "      <td>nonexistent</td>\n",
              "      <td>2018</td>\n",
              "      <td>4</td>\n",
              "      <td>1</td>\n",
              "      <td>0</td>\n",
              "      <td>0</td>\n",
              "    </tr>\n",
              "    <tr>\n",
              "      <th>3</th>\n",
              "      <td>4</td>\n",
              "      <td>0</td>\n",
              "      <td>0</td>\n",
              "      <td>Paris</td>\n",
              "      <td>paris-claudevellefaux-3</td>\n",
              "      <td>STATION</td>\n",
              "      <td>75010</td>\n",
              "      <td>Paris/Claude Vellefaux/3</td>\n",
              "      <td>operational</td>\n",
              "      <td>station</td>\n",
              "      <td>ok</td>\n",
              "      <td>nonexistent</td>\n",
              "      <td>2018</td>\n",
              "      <td>4</td>\n",
              "      <td>1</td>\n",
              "      <td>0</td>\n",
              "      <td>0</td>\n",
              "    </tr>\n",
              "    <tr>\n",
              "      <th>4</th>\n",
              "      <td>1</td>\n",
              "      <td>0</td>\n",
              "      <td>0</td>\n",
              "      <td>Paris</td>\n",
              "      <td>paris-voltaire-236</td>\n",
              "      <td>STATION</td>\n",
              "      <td>75011</td>\n",
              "      <td>Paris/Voltaire/236</td>\n",
              "      <td>operational</td>\n",
              "      <td>station</td>\n",
              "      <td>ok</td>\n",
              "      <td>nonexistent</td>\n",
              "      <td>2018</td>\n",
              "      <td>4</td>\n",
              "      <td>1</td>\n",
              "      <td>0</td>\n",
              "      <td>0</td>\n",
              "    </tr>\n",
              "  </tbody>\n",
              "</table>\n",
              "</div>"
            ],
            "text/plain": [
              "   bluecar_counter  utilib_counter  utilib_1.4_counter  ... day hour minute\n",
              "0                3               1                   0  ...   1    0      0\n",
              "1                0               0                   0  ...   1    0      0\n",
              "2                3               0                   0  ...   1    0      0\n",
              "3                4               0                   0  ...   1    0      0\n",
              "4                1               0                   0  ...   1    0      0\n",
              "\n",
              "[5 rows x 17 columns]"
            ]
          },
          "metadata": {
            "tags": []
          },
          "execution_count": 13
        }
      ]
    },
    {
      "cell_type": "code",
      "metadata": {
        "id": "kfmsXh6sOTyv",
        "colab_type": "code",
        "outputId": "702df72a-0717-4aff-9afd-68fd875aafc2",
        "colab": {
          "base_uri": "https://localhost:8080/",
          "height": 105
        }
      },
      "source": [
        "parking.columns"
      ],
      "execution_count": 0,
      "outputs": [
        {
          "output_type": "execute_result",
          "data": {
            "text/plain": [
              "Index(['bluecar_counter', 'utilib_counter', 'utilib_1.4_counter', 'city', 'id',\n",
              "       'kind', 'postal_code', 'public_name', 'rental_status', 'station_type',\n",
              "       'status', 'subscription_status', 'year', 'month', 'day', 'hour',\n",
              "       'minute'],\n",
              "      dtype='object')"
            ]
          },
          "metadata": {
            "tags": []
          },
          "execution_count": 14
        }
      ]
    },
    {
      "cell_type": "code",
      "metadata": {
        "id": "eRDqS00RPsRu",
        "colab_type": "code",
        "colab": {}
      },
      "source": [
        "#combining the year, month and day into one column\n",
        "parking['date'] = pd.to_datetime((parking.year*10000+parking.month*100+parking.day).apply(str),format='%Y%m%d')"
      ],
      "execution_count": 0,
      "outputs": []
    },
    {
      "cell_type": "code",
      "metadata": {
        "id": "og-wiaZlblk_",
        "colab_type": "code",
        "colab": {}
      },
      "source": [
        "#concating the hour and minute column to one column\n",
        "parking['time'] = parking.hour.str.cat([parking.minute], sep = ':')"
      ],
      "execution_count": 0,
      "outputs": []
    },
    {
      "cell_type": "code",
      "metadata": {
        "id": "e3H27Im_TG6T",
        "colab_type": "code",
        "outputId": "40c022f8-cf97-401a-a13d-314ee7cb9e0e",
        "colab": {
          "base_uri": "https://localhost:8080/",
          "height": 372
        }
      },
      "source": [
        "parking.dtypes"
      ],
      "execution_count": 0,
      "outputs": [
        {
          "output_type": "execute_result",
          "data": {
            "text/plain": [
              "bluecar_counter                 int64\n",
              "utilib_counter                  int64\n",
              "utilib_1.4_counter              int64\n",
              "city                           object\n",
              "id                             object\n",
              "kind                           object\n",
              "postal_code                     int64\n",
              "public_name                    object\n",
              "rental_status                  object\n",
              "station_type                   object\n",
              "status                         object\n",
              "subscription_status            object\n",
              "year                            int64\n",
              "month                           int64\n",
              "day                             int64\n",
              "hour                           object\n",
              "minute                         object\n",
              "date                   datetime64[ns]\n",
              "time                           object\n",
              "dtype: object"
            ]
          },
          "metadata": {
            "tags": []
          },
          "execution_count": 17
        }
      ]
    },
    {
      "cell_type": "code",
      "metadata": {
        "id": "fMMZ8JLdiERj",
        "colab_type": "code",
        "colab": {}
      },
      "source": [
        "#dropping the year and month column after combining to date column\n",
        "parking.drop(['year', 'month',], axis = 1, inplace = True)"
      ],
      "execution_count": 0,
      "outputs": []
    },
    {
      "cell_type": "code",
      "metadata": {
        "id": "qagJKQQVESfb",
        "colab_type": "code",
        "outputId": "568ff9c3-c8f8-46ec-c2a6-f23b0ea5209c",
        "colab": {
          "base_uri": "https://localhost:8080/",
          "height": 105
        }
      },
      "source": [
        "parking.columns"
      ],
      "execution_count": 0,
      "outputs": [
        {
          "output_type": "execute_result",
          "data": {
            "text/plain": [
              "Index(['bluecar_counter', 'utilib_counter', 'utilib_1.4_counter', 'city', 'id',\n",
              "       'kind', 'postal_code', 'public_name', 'rental_status', 'station_type',\n",
              "       'status', 'subscription_status', 'day', 'hour', 'minute', 'date',\n",
              "       'time'],\n",
              "      dtype='object')"
            ]
          },
          "metadata": {
            "tags": []
          },
          "execution_count": 19
        }
      ]
    },
    {
      "cell_type": "code",
      "metadata": {
        "id": "RatISL47aQzn",
        "colab_type": "code",
        "colab": {}
      },
      "source": [
        "#converting the parking dataframe to a csv file\n",
        "parking.to_csv('cars.csv')"
      ],
      "execution_count": 0,
      "outputs": []
    },
    {
      "cell_type": "markdown",
      "metadata": {
        "id": "TtRwePIoqbC7",
        "colab_type": "text"
      },
      "source": [
        "# Data Analysis\n",
        "\n",
        "---\n",
        "\n",
        "\n"
      ]
    },
    {
      "cell_type": "code",
      "metadata": {
        "id": "7KQlL2jHiph1",
        "colab_type": "code",
        "outputId": "204e8ecd-8185-4190-e610-4716e37512eb",
        "colab": {
          "base_uri": "https://localhost:8080/",
          "height": 353
        }
      },
      "source": [
        "# Loading the cars dataset from the csv file\n",
        "cars = pd.read_csv('cars.csv',index_col = 0)\n",
        "cars.head(5)\n",
        "\n"
      ],
      "execution_count": 0,
      "outputs": [
        {
          "output_type": "stream",
          "text": [
            "/usr/local/lib/python3.6/dist-packages/numpy/lib/arraysetops.py:569: FutureWarning: elementwise comparison failed; returning scalar instead, but in the future will perform elementwise comparison\n",
            "  mask |= (ar1 == a)\n"
          ],
          "name": "stderr"
        },
        {
          "output_type": "execute_result",
          "data": {
            "text/html": [
              "<div>\n",
              "<style scoped>\n",
              "    .dataframe tbody tr th:only-of-type {\n",
              "        vertical-align: middle;\n",
              "    }\n",
              "\n",
              "    .dataframe tbody tr th {\n",
              "        vertical-align: top;\n",
              "    }\n",
              "\n",
              "    .dataframe thead th {\n",
              "        text-align: right;\n",
              "    }\n",
              "</style>\n",
              "<table border=\"1\" class=\"dataframe\">\n",
              "  <thead>\n",
              "    <tr style=\"text-align: right;\">\n",
              "      <th></th>\n",
              "      <th>bluecar_counter</th>\n",
              "      <th>utilib_counter</th>\n",
              "      <th>utilib_1.4_counter</th>\n",
              "      <th>city</th>\n",
              "      <th>id</th>\n",
              "      <th>kind</th>\n",
              "      <th>postal_code</th>\n",
              "      <th>public_name</th>\n",
              "      <th>rental_status</th>\n",
              "      <th>station_type</th>\n",
              "      <th>status</th>\n",
              "      <th>subscription_status</th>\n",
              "      <th>day</th>\n",
              "      <th>hour</th>\n",
              "      <th>minute</th>\n",
              "      <th>date</th>\n",
              "      <th>time</th>\n",
              "    </tr>\n",
              "  </thead>\n",
              "  <tbody>\n",
              "    <tr>\n",
              "      <th>0</th>\n",
              "      <td>3</td>\n",
              "      <td>1</td>\n",
              "      <td>0</td>\n",
              "      <td>Paris</td>\n",
              "      <td>paris-vulpian-24</td>\n",
              "      <td>STATION</td>\n",
              "      <td>75013</td>\n",
              "      <td>Paris/Vulpian/24</td>\n",
              "      <td>operational</td>\n",
              "      <td>station</td>\n",
              "      <td>ok</td>\n",
              "      <td>nonexistent</td>\n",
              "      <td>1</td>\n",
              "      <td>0</td>\n",
              "      <td>0</td>\n",
              "      <td>2018-04-01</td>\n",
              "      <td>0:0</td>\n",
              "    </tr>\n",
              "    <tr>\n",
              "      <th>1</th>\n",
              "      <td>0</td>\n",
              "      <td>0</td>\n",
              "      <td>0</td>\n",
              "      <td>Paris</td>\n",
              "      <td>paris-richardlenoir-8</td>\n",
              "      <td>STATION</td>\n",
              "      <td>75011</td>\n",
              "      <td>Paris/Richard Lenoir/8</td>\n",
              "      <td>operational</td>\n",
              "      <td>station</td>\n",
              "      <td>ok</td>\n",
              "      <td>nonexistent</td>\n",
              "      <td>1</td>\n",
              "      <td>0</td>\n",
              "      <td>0</td>\n",
              "      <td>2018-04-01</td>\n",
              "      <td>0:0</td>\n",
              "    </tr>\n",
              "    <tr>\n",
              "      <th>2</th>\n",
              "      <td>3</td>\n",
              "      <td>0</td>\n",
              "      <td>0</td>\n",
              "      <td>Paris</td>\n",
              "      <td>paris-charlesbossut-4</td>\n",
              "      <td>STATION</td>\n",
              "      <td>75012</td>\n",
              "      <td>Paris/Charles Bossut/4</td>\n",
              "      <td>operational</td>\n",
              "      <td>station</td>\n",
              "      <td>ok</td>\n",
              "      <td>nonexistent</td>\n",
              "      <td>1</td>\n",
              "      <td>0</td>\n",
              "      <td>0</td>\n",
              "      <td>2018-04-01</td>\n",
              "      <td>0:0</td>\n",
              "    </tr>\n",
              "    <tr>\n",
              "      <th>3</th>\n",
              "      <td>4</td>\n",
              "      <td>0</td>\n",
              "      <td>0</td>\n",
              "      <td>Paris</td>\n",
              "      <td>paris-claudevellefaux-3</td>\n",
              "      <td>STATION</td>\n",
              "      <td>75010</td>\n",
              "      <td>Paris/Claude Vellefaux/3</td>\n",
              "      <td>operational</td>\n",
              "      <td>station</td>\n",
              "      <td>ok</td>\n",
              "      <td>nonexistent</td>\n",
              "      <td>1</td>\n",
              "      <td>0</td>\n",
              "      <td>0</td>\n",
              "      <td>2018-04-01</td>\n",
              "      <td>0:0</td>\n",
              "    </tr>\n",
              "    <tr>\n",
              "      <th>4</th>\n",
              "      <td>1</td>\n",
              "      <td>0</td>\n",
              "      <td>0</td>\n",
              "      <td>Paris</td>\n",
              "      <td>paris-voltaire-236</td>\n",
              "      <td>STATION</td>\n",
              "      <td>75011</td>\n",
              "      <td>Paris/Voltaire/236</td>\n",
              "      <td>operational</td>\n",
              "      <td>station</td>\n",
              "      <td>ok</td>\n",
              "      <td>nonexistent</td>\n",
              "      <td>1</td>\n",
              "      <td>0</td>\n",
              "      <td>0</td>\n",
              "      <td>2018-04-01</td>\n",
              "      <td>0:0</td>\n",
              "    </tr>\n",
              "  </tbody>\n",
              "</table>\n",
              "</div>"
            ],
            "text/plain": [
              "   bluecar_counter  utilib_counter  utilib_1.4_counter  ... minute        date time\n",
              "0                3               1                   0  ...      0  2018-04-01  0:0\n",
              "1                0               0                   0  ...      0  2018-04-01  0:0\n",
              "2                3               0                   0  ...      0  2018-04-01  0:0\n",
              "3                4               0                   0  ...      0  2018-04-01  0:0\n",
              "4                1               0                   0  ...      0  2018-04-01  0:0\n",
              "\n",
              "[5 rows x 17 columns]"
            ]
          },
          "metadata": {
            "tags": []
          },
          "execution_count": 3
        }
      ]
    },
    {
      "cell_type": "code",
      "metadata": {
        "id": "8Dm-GMIJnAuv",
        "colab_type": "code",
        "outputId": "cdb7b0ab-1461-46a1-dc93-a36819e046a5",
        "colab": {
          "base_uri": "https://localhost:8080/",
          "height": 317
        }
      },
      "source": [
        "#subsetting the data frame to only select only stations in Paris\n",
        "pariscity = cars[(cars.city == 'Paris')]\n",
        "pariscity.head()"
      ],
      "execution_count": 0,
      "outputs": [
        {
          "output_type": "execute_result",
          "data": {
            "text/html": [
              "<div>\n",
              "<style scoped>\n",
              "    .dataframe tbody tr th:only-of-type {\n",
              "        vertical-align: middle;\n",
              "    }\n",
              "\n",
              "    .dataframe tbody tr th {\n",
              "        vertical-align: top;\n",
              "    }\n",
              "\n",
              "    .dataframe thead th {\n",
              "        text-align: right;\n",
              "    }\n",
              "</style>\n",
              "<table border=\"1\" class=\"dataframe\">\n",
              "  <thead>\n",
              "    <tr style=\"text-align: right;\">\n",
              "      <th></th>\n",
              "      <th>bluecar_counter</th>\n",
              "      <th>utilib_counter</th>\n",
              "      <th>utilib_1.4_counter</th>\n",
              "      <th>city</th>\n",
              "      <th>id</th>\n",
              "      <th>kind</th>\n",
              "      <th>postal_code</th>\n",
              "      <th>public_name</th>\n",
              "      <th>rental_status</th>\n",
              "      <th>station_type</th>\n",
              "      <th>status</th>\n",
              "      <th>subscription_status</th>\n",
              "      <th>day</th>\n",
              "      <th>hour</th>\n",
              "      <th>minute</th>\n",
              "      <th>date</th>\n",
              "      <th>time</th>\n",
              "    </tr>\n",
              "  </thead>\n",
              "  <tbody>\n",
              "    <tr>\n",
              "      <th>0</th>\n",
              "      <td>3</td>\n",
              "      <td>1</td>\n",
              "      <td>0</td>\n",
              "      <td>Paris</td>\n",
              "      <td>paris-vulpian-24</td>\n",
              "      <td>STATION</td>\n",
              "      <td>75013</td>\n",
              "      <td>Paris/Vulpian/24</td>\n",
              "      <td>operational</td>\n",
              "      <td>station</td>\n",
              "      <td>ok</td>\n",
              "      <td>nonexistent</td>\n",
              "      <td>1</td>\n",
              "      <td>0</td>\n",
              "      <td>0</td>\n",
              "      <td>2018-04-01</td>\n",
              "      <td>0:0</td>\n",
              "    </tr>\n",
              "    <tr>\n",
              "      <th>1</th>\n",
              "      <td>0</td>\n",
              "      <td>0</td>\n",
              "      <td>0</td>\n",
              "      <td>Paris</td>\n",
              "      <td>paris-richardlenoir-8</td>\n",
              "      <td>STATION</td>\n",
              "      <td>75011</td>\n",
              "      <td>Paris/Richard Lenoir/8</td>\n",
              "      <td>operational</td>\n",
              "      <td>station</td>\n",
              "      <td>ok</td>\n",
              "      <td>nonexistent</td>\n",
              "      <td>1</td>\n",
              "      <td>0</td>\n",
              "      <td>0</td>\n",
              "      <td>2018-04-01</td>\n",
              "      <td>0:0</td>\n",
              "    </tr>\n",
              "    <tr>\n",
              "      <th>2</th>\n",
              "      <td>3</td>\n",
              "      <td>0</td>\n",
              "      <td>0</td>\n",
              "      <td>Paris</td>\n",
              "      <td>paris-charlesbossut-4</td>\n",
              "      <td>STATION</td>\n",
              "      <td>75012</td>\n",
              "      <td>Paris/Charles Bossut/4</td>\n",
              "      <td>operational</td>\n",
              "      <td>station</td>\n",
              "      <td>ok</td>\n",
              "      <td>nonexistent</td>\n",
              "      <td>1</td>\n",
              "      <td>0</td>\n",
              "      <td>0</td>\n",
              "      <td>2018-04-01</td>\n",
              "      <td>0:0</td>\n",
              "    </tr>\n",
              "    <tr>\n",
              "      <th>3</th>\n",
              "      <td>4</td>\n",
              "      <td>0</td>\n",
              "      <td>0</td>\n",
              "      <td>Paris</td>\n",
              "      <td>paris-claudevellefaux-3</td>\n",
              "      <td>STATION</td>\n",
              "      <td>75010</td>\n",
              "      <td>Paris/Claude Vellefaux/3</td>\n",
              "      <td>operational</td>\n",
              "      <td>station</td>\n",
              "      <td>ok</td>\n",
              "      <td>nonexistent</td>\n",
              "      <td>1</td>\n",
              "      <td>0</td>\n",
              "      <td>0</td>\n",
              "      <td>2018-04-01</td>\n",
              "      <td>0:0</td>\n",
              "    </tr>\n",
              "    <tr>\n",
              "      <th>4</th>\n",
              "      <td>1</td>\n",
              "      <td>0</td>\n",
              "      <td>0</td>\n",
              "      <td>Paris</td>\n",
              "      <td>paris-voltaire-236</td>\n",
              "      <td>STATION</td>\n",
              "      <td>75011</td>\n",
              "      <td>Paris/Voltaire/236</td>\n",
              "      <td>operational</td>\n",
              "      <td>station</td>\n",
              "      <td>ok</td>\n",
              "      <td>nonexistent</td>\n",
              "      <td>1</td>\n",
              "      <td>0</td>\n",
              "      <td>0</td>\n",
              "      <td>2018-04-01</td>\n",
              "      <td>0:0</td>\n",
              "    </tr>\n",
              "  </tbody>\n",
              "</table>\n",
              "</div>"
            ],
            "text/plain": [
              "   bluecar_counter  utilib_counter  utilib_1.4_counter  ... minute        date time\n",
              "0                3               1                   0  ...      0  2018-04-01  0:0\n",
              "1                0               0                   0  ...      0  2018-04-01  0:0\n",
              "2                3               0                   0  ...      0  2018-04-01  0:0\n",
              "3                4               0                   0  ...      0  2018-04-01  0:0\n",
              "4                1               0                   0  ...      0  2018-04-01  0:0\n",
              "\n",
              "[5 rows x 17 columns]"
            ]
          },
          "metadata": {
            "tags": []
          },
          "execution_count": 4
        }
      ]
    },
    {
      "cell_type": "code",
      "metadata": {
        "id": "DJYflVE4q4yw",
        "colab_type": "code",
        "outputId": "467d1a8b-7007-4db9-800c-95394b8e8491",
        "colab": {
          "base_uri": "https://localhost:8080/",
          "height": 34
        }
      },
      "source": [
        "pariscity.shape"
      ],
      "execution_count": 0,
      "outputs": [
        {
          "output_type": "execute_result",
          "data": {
            "text/plain": [
              "(7874596, 17)"
            ]
          },
          "metadata": {
            "tags": []
          },
          "execution_count": 5
        }
      ]
    },
    {
      "cell_type": "code",
      "metadata": {
        "id": "cWVj8wxMpBAZ",
        "colab_type": "code",
        "outputId": "3633bf86-87dd-4c9a-e9c7-74713f598993",
        "colab": {
          "base_uri": "https://localhost:8080/",
          "height": 478
        }
      },
      "source": [
        "#most popular hour of the day for picking shared electric blue car in Paris\n",
        "pariscity.groupby(['hour'])['bluecar_counter'].sum()\n",
        "#print(x)\n",
        "#.sort_values(ascending = False)"
      ],
      "execution_count": 0,
      "outputs": [
        {
          "output_type": "execute_result",
          "data": {
            "text/plain": [
              "hour\n",
              "0     560500\n",
              "1     574561\n",
              "2     639105\n",
              "3     651668\n",
              "4     649731\n",
              "5     656438\n",
              "6     663695\n",
              "7     648282\n",
              "8     600351\n",
              "9     600840\n",
              "10    623957\n",
              "11    614350\n",
              "12    576251\n",
              "13    582326\n",
              "14    589145\n",
              "15    574919\n",
              "16    563497\n",
              "17    550459\n",
              "18    538036\n",
              "19    519875\n",
              "20    557945\n",
              "21    624931\n",
              "22    611627\n",
              "23    556928\n",
              "Name: bluecar_counter, dtype: int64"
            ]
          },
          "metadata": {
            "tags": []
          },
          "execution_count": 6
        }
      ]
    },
    {
      "cell_type": "code",
      "metadata": {
        "id": "Wd1Png9l9LvC",
        "colab_type": "code",
        "outputId": "f652aae2-58d6-4f00-ca7b-80ab01e46791",
        "colab": {
          "base_uri": "https://localhost:8080/",
          "height": 478
        }
      },
      "source": [
        "#most popular hour of the day for picking shared electric blue car in Paris\n",
        "x.diff().sort_values(ascending = False)"
      ],
      "execution_count": 0,
      "outputs": [
        {
          "output_type": "execute_result",
          "data": {
            "text/plain": [
              "hour\n",
              "21    66986.0\n",
              "2     64544.0\n",
              "20    38070.0\n",
              "10    23117.0\n",
              "1     14061.0\n",
              "3     12563.0\n",
              "6      7257.0\n",
              "14     6819.0\n",
              "5      6707.0\n",
              "13     6075.0\n",
              "9       489.0\n",
              "4     -1937.0\n",
              "11    -9607.0\n",
              "16   -11422.0\n",
              "18   -12423.0\n",
              "17   -13038.0\n",
              "22   -13304.0\n",
              "15   -14226.0\n",
              "7    -15413.0\n",
              "19   -18161.0\n",
              "12   -38099.0\n",
              "8    -47931.0\n",
              "23   -54699.0\n",
              "0         NaN\n",
              "Name: bluecar_counter, dtype: float64"
            ]
          },
          "metadata": {
            "tags": []
          },
          "execution_count": 217
        }
      ]
    },
    {
      "cell_type": "code",
      "metadata": {
        "id": "mOq0TJveaZgL",
        "colab_type": "code",
        "outputId": "7a65f9ea-b844-4ee5-b4d4-7d8e83e4b106",
        "colab": {
          "base_uri": "https://localhost:8080/",
          "height": 303
        }
      },
      "source": [
        "pariscity.groupby(['hour'])['bluecar_counter'].sum().plot(kind = 'bar')"
      ],
      "execution_count": 0,
      "outputs": [
        {
          "output_type": "execute_result",
          "data": {
            "text/plain": [
              "<matplotlib.axes._subplots.AxesSubplot at 0x7fc0cda42eb8>"
            ]
          },
          "metadata": {
            "tags": []
          },
          "execution_count": 8
        },
        {
          "output_type": "display_data",
          "data": {
            "image/png": "[encoded data removed]",
            "text/plain": [
              "<Figure size 432x288 with 1 Axes>"
            ]
          },
          "metadata": {
            "tags": []
          }
        }
      ]
    },
    {
      "cell_type": "code",
      "metadata": {
        "id": "NrTA5HPprUUV",
        "colab_type": "code",
        "colab": {}
      },
      "source": [
        "pariscity.bluecar_counter.diff().sort_values(ascending= False)"
      ],
      "execution_count": 0,
      "outputs": []
    },
    {
      "cell_type": "code",
      "metadata": {
        "id": "MAjjBqcS79EA",
        "colab_type": "code",
        "outputId": "7bdc54a6-6494-463b-930e-18f6878285fb",
        "colab": {
          "base_uri": "https://localhost:8080/",
          "height": 123
        }
      },
      "source": [
        "#creeating a new column and getting the sum of the 3 types of cars: bluecar_counter,utilib_counter,utilib_1.4_counter\n",
        "pariscity['Car_Total']= pariscity.iloc[:, 0:4].sum(axis=1)"
      ],
      "execution_count": 0,
      "outputs": [
        {
          "output_type": "stream",
          "text": [
            "/usr/local/lib/python3.6/dist-packages/ipykernel_launcher.py:1: SettingWithCopyWarning: \n",
            "A value is trying to be set on a copy of a slice from a DataFrame.\n",
            "Try using .loc[row_indexer,col_indexer] = value instead\n",
            "\n",
            "See the caveats in the documentation: http://pandas.pydata.org/pandas-docs/stable/indexing.html#indexing-view-versus-copy\n",
            "  \"\"\"Entry point for launching an IPython kernel.\n"
          ],
          "name": "stderr"
        }
      ]
    },
    {
      "cell_type": "code",
      "metadata": {
        "id": "JDZhzczF_5TD",
        "colab_type": "code",
        "outputId": "9f363006-832f-44e5-ffb2-6120cffe2936",
        "colab": {
          "base_uri": "https://localhost:8080/",
          "height": 317
        }
      },
      "source": [
        "pariscity.head(5)"
      ],
      "execution_count": 0,
      "outputs": [
        {
          "output_type": "execute_result",
          "data": {
            "text/html": [
              "<div>\n",
              "<style scoped>\n",
              "    .dataframe tbody tr th:only-of-type {\n",
              "        vertical-align: middle;\n",
              "    }\n",
              "\n",
              "    .dataframe tbody tr th {\n",
              "        vertical-align: top;\n",
              "    }\n",
              "\n",
              "    .dataframe thead th {\n",
              "        text-align: right;\n",
              "    }\n",
              "</style>\n",
              "<table border=\"1\" class=\"dataframe\">\n",
              "  <thead>\n",
              "    <tr style=\"text-align: right;\">\n",
              "      <th></th>\n",
              "      <th>bluecar_counter</th>\n",
              "      <th>utilib_counter</th>\n",
              "      <th>utilib_1.4_counter</th>\n",
              "      <th>city</th>\n",
              "      <th>id</th>\n",
              "      <th>kind</th>\n",
              "      <th>postal_code</th>\n",
              "      <th>public_name</th>\n",
              "      <th>rental_status</th>\n",
              "      <th>station_type</th>\n",
              "      <th>status</th>\n",
              "      <th>subscription_status</th>\n",
              "      <th>day</th>\n",
              "      <th>hour</th>\n",
              "      <th>minute</th>\n",
              "      <th>date</th>\n",
              "      <th>time</th>\n",
              "      <th>Car_Total</th>\n",
              "    </tr>\n",
              "  </thead>\n",
              "  <tbody>\n",
              "    <tr>\n",
              "      <th>0</th>\n",
              "      <td>3</td>\n",
              "      <td>1</td>\n",
              "      <td>0</td>\n",
              "      <td>Paris</td>\n",
              "      <td>paris-vulpian-24</td>\n",
              "      <td>STATION</td>\n",
              "      <td>75013</td>\n",
              "      <td>Paris/Vulpian/24</td>\n",
              "      <td>operational</td>\n",
              "      <td>station</td>\n",
              "      <td>ok</td>\n",
              "      <td>nonexistent</td>\n",
              "      <td>1</td>\n",
              "      <td>0</td>\n",
              "      <td>0</td>\n",
              "      <td>2018-04-01</td>\n",
              "      <td>0:0</td>\n",
              "      <td>4</td>\n",
              "    </tr>\n",
              "    <tr>\n",
              "      <th>1</th>\n",
              "      <td>0</td>\n",
              "      <td>0</td>\n",
              "      <td>0</td>\n",
              "      <td>Paris</td>\n",
              "      <td>paris-richardlenoir-8</td>\n",
              "      <td>STATION</td>\n",
              "      <td>75011</td>\n",
              "      <td>Paris/Richard Lenoir/8</td>\n",
              "      <td>operational</td>\n",
              "      <td>station</td>\n",
              "      <td>ok</td>\n",
              "      <td>nonexistent</td>\n",
              "      <td>1</td>\n",
              "      <td>0</td>\n",
              "      <td>0</td>\n",
              "      <td>2018-04-01</td>\n",
              "      <td>0:0</td>\n",
              "      <td>0</td>\n",
              "    </tr>\n",
              "    <tr>\n",
              "      <th>2</th>\n",
              "      <td>3</td>\n",
              "      <td>0</td>\n",
              "      <td>0</td>\n",
              "      <td>Paris</td>\n",
              "      <td>paris-charlesbossut-4</td>\n",
              "      <td>STATION</td>\n",
              "      <td>75012</td>\n",
              "      <td>Paris/Charles Bossut/4</td>\n",
              "      <td>operational</td>\n",
              "      <td>station</td>\n",
              "      <td>ok</td>\n",
              "      <td>nonexistent</td>\n",
              "      <td>1</td>\n",
              "      <td>0</td>\n",
              "      <td>0</td>\n",
              "      <td>2018-04-01</td>\n",
              "      <td>0:0</td>\n",
              "      <td>3</td>\n",
              "    </tr>\n",
              "    <tr>\n",
              "      <th>3</th>\n",
              "      <td>4</td>\n",
              "      <td>0</td>\n",
              "      <td>0</td>\n",
              "      <td>Paris</td>\n",
              "      <td>paris-claudevellefaux-3</td>\n",
              "      <td>STATION</td>\n",
              "      <td>75010</td>\n",
              "      <td>Paris/Claude Vellefaux/3</td>\n",
              "      <td>operational</td>\n",
              "      <td>station</td>\n",
              "      <td>ok</td>\n",
              "      <td>nonexistent</td>\n",
              "      <td>1</td>\n",
              "      <td>0</td>\n",
              "      <td>0</td>\n",
              "      <td>2018-04-01</td>\n",
              "      <td>0:0</td>\n",
              "      <td>4</td>\n",
              "    </tr>\n",
              "    <tr>\n",
              "      <th>4</th>\n",
              "      <td>1</td>\n",
              "      <td>0</td>\n",
              "      <td>0</td>\n",
              "      <td>Paris</td>\n",
              "      <td>paris-voltaire-236</td>\n",
              "      <td>STATION</td>\n",
              "      <td>75011</td>\n",
              "      <td>Paris/Voltaire/236</td>\n",
              "      <td>operational</td>\n",
              "      <td>station</td>\n",
              "      <td>ok</td>\n",
              "      <td>nonexistent</td>\n",
              "      <td>1</td>\n",
              "      <td>0</td>\n",
              "      <td>0</td>\n",
              "      <td>2018-04-01</td>\n",
              "      <td>0:0</td>\n",
              "      <td>1</td>\n",
              "    </tr>\n",
              "  </tbody>\n",
              "</table>\n",
              "</div>"
            ],
            "text/plain": [
              "   bluecar_counter  utilib_counter  ...  time Car_Total\n",
              "0                3               1  ...   0:0         4\n",
              "1                0               0  ...   0:0         0\n",
              "2                3               0  ...   0:0         3\n",
              "3                4               0  ...   0:0         4\n",
              "4                1               0  ...   0:0         1\n",
              "\n",
              "[5 rows x 18 columns]"
            ]
          },
          "metadata": {
            "tags": []
          },
          "execution_count": 138
        }
      ]
    },
    {
      "cell_type": "code",
      "metadata": {
        "id": "JQgXzaJ8-G6G",
        "colab_type": "code",
        "outputId": "69315803-cdb4-4f2b-cda3-437d0c1243be",
        "colab": {
          "base_uri": "https://localhost:8080/",
          "height": 105
        }
      },
      "source": [
        "pariscity.columns"
      ],
      "execution_count": 0,
      "outputs": [
        {
          "output_type": "execute_result",
          "data": {
            "text/plain": [
              "Index(['bluecar_counter', 'utilib_counter', 'utilib_1.4_counter', 'city', 'id',\n",
              "       'kind', 'postal_code', 'public_name', 'rental_status', 'station_type',\n",
              "       'status', 'subscription_status', 'day', 'hour', 'minute', 'date',\n",
              "       'time', 'Car_Total'],\n",
              "      dtype='object')"
            ]
          },
          "metadata": {
            "tags": []
          },
          "execution_count": 107
        }
      ]
    },
    {
      "cell_type": "code",
      "metadata": {
        "id": "SbwM2Yj75_xu",
        "colab_type": "code",
        "outputId": "a445ec72-d677-40cf-d44b-da8833bfc5c9",
        "colab": {
          "base_uri": "https://localhost:8080/",
          "height": 141
        }
      },
      "source": [
        "#Most popular station in Paris in terms of the total number of cars\n",
        "pariscity.groupby(['id'])['Car_Total'].sum().sort_values(ascending = False).head()"
      ],
      "execution_count": 0,
      "outputs": [
        {
          "output_type": "execute_result",
          "data": {
            "text/plain": [
              "id\n",
              "paris-portesaintcloud-parking      71800\n",
              "paris-versaillesreynaud-parking    67970\n",
              "paris-picpusnation-parking         64766\n",
              "paris-gouvionmaillot-parking       63415\n",
              "paris-lacordaire-56                60294\n",
              "Name: Car_Total, dtype: int64"
            ]
          },
          "metadata": {
            "tags": []
          },
          "execution_count": 129
        }
      ]
    },
    {
      "cell_type": "code",
      "metadata": {
        "id": "IKJFxoS7c9d0",
        "colab_type": "code",
        "outputId": "a6cc3746-e62b-4d98-b676-65bda2a9fd9c",
        "colab": {
          "base_uri": "https://localhost:8080/",
          "height": 448
        }
      },
      "source": [
        "pariscity.groupby(['id'])['Car_Total'].sum().sort_values(ascending = False).head().plot(kind = 'bar')"
      ],
      "execution_count": 0,
      "outputs": [
        {
          "output_type": "execute_result",
          "data": {
            "text/plain": [
              "<matplotlib.axes._subplots.AxesSubplot at 0x7f706e13d198>"
            ]
          },
          "metadata": {
            "tags": []
          },
          "execution_count": 174
        },
        {
          "output_type": "display_data",
          "data": {
            "image/png": "[encoded data removed]",
            "text/plain": [
              "<Figure size 432x288 with 1 Axes>"
            ]
          },
          "metadata": {
            "tags": []
          }
        }
      ]
    },
    {
      "cell_type": "code",
      "metadata": {
        "id": "j-NbsqIYi7Y2",
        "colab_type": "code",
        "outputId": "5260c04d-0f92-4234-9d93-6ace813dacd7",
        "colab": {
          "base_uri": "https://localhost:8080/",
          "height": 318
        }
      },
      "source": [
        "#Most popular station and most picking hour in Paris in terms of the total number of cars\n",
        "pariscity.groupby(['id','hour'])['Car_Total'].sum().sort_values(ascending = False).head(15)"
      ],
      "execution_count": 0,
      "outputs": [
        {
          "output_type": "execute_result",
          "data": {
            "text/plain": [
              "id                               hour\n",
              "paris-portesaintcloud-parking    12      3238\n",
              "                                 11      3236\n",
              "                                 14      3216\n",
              "                                 18      3213\n",
              "                                 7       3196\n",
              "                                 19      3194\n",
              "                                 10      3190\n",
              "                                 13      3178\n",
              "                                 15      3172\n",
              "                                 16      3162\n",
              "                                 6       3159\n",
              "                                 17      3141\n",
              "paris-versaillesreynaud-parking  5       3106\n",
              "                                 2       3092\n",
              "                                 4       3090\n",
              "Name: Car_Total, dtype: int64"
            ]
          },
          "metadata": {
            "tags": []
          },
          "execution_count": 21
        }
      ]
    },
    {
      "cell_type": "code",
      "metadata": {
        "id": "-MW0Maepdwr4",
        "colab_type": "code",
        "outputId": "9acd96c4-0a17-4a57-eabb-93c92b09dcd0",
        "colab": {
          "base_uri": "https://localhost:8080/",
          "height": 141
        }
      },
      "source": [
        "#most popular postal code for picking up blue cars\n",
        "cars.groupby(['postal_code','hour'])['bluecar_counter'].sum().sort_values(ascending = False).head()"
      ],
      "execution_count": 0,
      "outputs": [
        {
          "output_type": "execute_result",
          "data": {
            "text/plain": [
              "postal_code  hour\n",
              "75015        6       92407\n",
              "             5       91494\n",
              "             4       89615\n",
              "             3       89528\n",
              "             7       89175\n",
              "Name: bluecar_counter, dtype: int64"
            ]
          },
          "metadata": {
            "tags": []
          },
          "execution_count": 193
        }
      ]
    },
    {
      "cell_type": "code",
      "metadata": {
        "id": "thz1xBmdiYFC",
        "colab_type": "code",
        "outputId": "3315f0e5-7e62-450b-81a3-7505d1d1bca8",
        "colab": {
          "base_uri": "https://localhost:8080/",
          "height": 141
        }
      },
      "source": [
        "#most popular postal code and picking hourfor picking up blue cars\n",
        "cars.groupby(['postal_code','hour'])['bluecar_counter'].sum().sort_values(ascending = False).head()"
      ],
      "execution_count": 0,
      "outputs": [
        {
          "output_type": "execute_result",
          "data": {
            "text/plain": [
              "postal_code  hour\n",
              "75015        6       92407\n",
              "             5       91494\n",
              "             4       89615\n",
              "             3       89528\n",
              "             7       89175\n",
              "Name: bluecar_counter, dtype: int64"
            ]
          },
          "metadata": {
            "tags": []
          },
          "execution_count": 22
        }
      ]
    },
    {
      "cell_type": "code",
      "metadata": {
        "id": "9isuqelfeI6q",
        "colab_type": "code",
        "outputId": "c8b5dfeb-5037-473a-f296-332eb5a18a0b",
        "colab": {
          "base_uri": "https://localhost:8080/",
          "height": 141
        }
      },
      "source": [
        "#most popular station\n",
        "pariscity.groupby(['id','postal_code'])['Car_Total'].sum().sort_values(ascending = False).head()"
      ],
      "execution_count": 0,
      "outputs": [
        {
          "output_type": "execute_result",
          "data": {
            "text/plain": [
              "id                               postal_code\n",
              "paris-portesaintcloud-parking    75016          71800\n",
              "paris-versaillesreynaud-parking  75016          67970\n",
              "paris-picpusnation-parking       75012          64766\n",
              "paris-gouvionmaillot-parking     75017          63415\n",
              "paris-lacordaire-56              75015          60294\n",
              "Name: Car_Total, dtype: int64"
            ]
          },
          "metadata": {
            "tags": []
          },
          "execution_count": 23
        }
      ]
    },
    {
      "cell_type": "code",
      "metadata": {
        "id": "ZRWlmmEKeyEH",
        "colab_type": "code",
        "outputId": "64908bdc-9dca-4f5d-fcbe-57a2827e8d08",
        "colab": {
          "base_uri": "https://localhost:8080/",
          "height": 141
        }
      },
      "source": [
        "#when using utilib\n",
        "cars.groupby(['id','postal_code','hour'])['utilib_counter'].sum().sort_values(ascending = False).head()"
      ],
      "execution_count": 0,
      "outputs": [
        {
          "output_type": "execute_result",
          "data": {
            "text/plain": [
              "id                        postal_code  hour\n",
              "colombes-gounod-1         92700        11      464\n",
              "                                       10      459\n",
              "                                       12      447\n",
              "nanterre-julesquentin-33  92000        17      429\n",
              "colombes-gounod-1         92700        13      429\n",
              "Name: utilib_counter, dtype: int64"
            ]
          },
          "metadata": {
            "tags": []
          },
          "execution_count": 24
        }
      ]
    },
    {
      "cell_type": "code",
      "metadata": {
        "id": "gaXc9-2SfGxu",
        "colab_type": "code",
        "outputId": "cca87bd1-483d-4137-e595-ce0849db7c8a",
        "colab": {
          "base_uri": "https://localhost:8080/",
          "height": 141
        }
      },
      "source": [
        "#when using utilib 1.4\n",
        "cars.groupby(['id','postal_code','hour'])['utilib_1.4_counter'].sum().sort_values(ascending = False).head()"
      ],
      "execution_count": 0,
      "outputs": [
        {
          "output_type": "execute_result",
          "data": {
            "text/plain": [
              "id                      postal_code  hour\n",
              "sevres-granderue-123    92310        7       546\n",
              "drancy-rogersalengro-3  93700        11      545\n",
              "                                     6       545\n",
              "                                     2       545\n",
              "sevres-granderue-123    92310        3       544\n",
              "Name: utilib_1.4_counter, dtype: int64"
            ]
          },
          "metadata": {
            "tags": []
          },
          "execution_count": 25
        }
      ]
    },
    {
      "cell_type": "code",
      "metadata": {
        "id": "aMUWNXkb1Qka",
        "colab_type": "code",
        "colab": {}
      },
      "source": [
        ""
      ],
      "execution_count": 0,
      "outputs": []
    }
  ]
}